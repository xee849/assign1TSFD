{
 "cells": [
  {
   "cell_type": "code",
   "execution_count": 8,
   "metadata": {},
   "outputs": [],
   "source": [
    "import os\n",
    "os.chdir(r'C:\\Users\\zeeshan.hameed\\Desktop\\assignment1\\assign1TSFD')"
   ]
  },
  {
   "cell_type": "code",
   "execution_count": 9,
   "metadata": {},
   "outputs": [
    {
     "data": {
      "text/plain": [
       "'C:\\\\Users\\\\zeeshan.hameed\\\\Desktop\\\\assignment1\\\\assign1TSFD'"
      ]
     },
     "execution_count": 9,
     "metadata": {},
     "output_type": "execute_result"
    }
   ],
   "source": [
    "%pwd"
   ]
  },
  {
   "cell_type": "code",
   "execution_count": 23,
   "metadata": {},
   "outputs": [],
   "source": [
    "from dataclasses import dataclass\n",
    "from pathlib import Path\n",
    "\n",
    "@dataclass(frozen=True)\n",
    "class PrepareDataConfig:\n",
    "    data_path: Path\n",
    "    train_size : float\n",
    "    coll_name : str\n",
    "    look_Back : int"
   ]
  },
  {
   "cell_type": "code",
   "execution_count": 24,
   "metadata": {},
   "outputs": [],
   "source": [
    "from timeseries.constants import *\n",
    "from timeseries.utils.common import read_yaml\n",
    "\n",
    "\n",
    "class DataConfigrationManager:\n",
    "    def __init__(self,config_filepath = CONFIG_FILE_PATH,params_filepath=PARAMS_FILE_PATH):\n",
    "        self.config = read_yaml(config_filepath)\n",
    "        self.params = read_yaml(params_filepath)\n",
    "    def prepare_data(self)->PrepareDataConfig:\n",
    "        config=self.config.prepare_data\n",
    "        prepare_base_model_config = PrepareDataConfig(data_path=Path(config.data_path),train_size=self.params.TRAIN_SIZE,\n",
    "                                                      coll_name=config.col_name,look_Back=self.params.LOOK_BACK)\n",
    "        return prepare_base_model_config\n"
   ]
  },
  {
   "cell_type": "code",
   "execution_count": 25,
   "metadata": {},
   "outputs": [],
   "source": [
    "from sklearn.preprocessing import MinMaxScaler\n",
    "from sklearn.metrics import mean_squared_error\n",
    "import numpy as np\n",
    "import pandas as pd\n",
    "from timeseries.utils.common import create_dataset,transform\n",
    "\n",
    "class PrepareDataset:\n",
    "    def __init__(self,config : PrepareDataConfig):\n",
    "        self.config = config\n",
    "    \n",
    "\n",
    "    def dataset_prepration(self):\n",
    "        datasetpath=self.config.data_path\n",
    "        column_name = self.config.coll_name\n",
    "        train_Size=self.config.train_size\n",
    "        look_back=self.config.look_Back\n",
    "        df = pd.read_excel(datasetpath ,engine='openpyxl')\n",
    "        df.Date = pd.to_datetime(df.Date)\n",
    "        df = df.set_index(\"Date\")\n",
    "        dataset = df.filter([column_name])\n",
    "        dataset=transform(dataset)\n",
    "        train_size = int(len(dataset) * train_Size)\n",
    "        test_size = len(dataset) - train_size\n",
    "        train = dataset[0:train_size,:]\n",
    "        test = dataset[train_size:len(dataset),:]\n",
    "        Train_X,trainY = create_dataset(train,look_back)\n",
    "        Test_X,testY = create_dataset(test,look_back)\n",
    "        trainX = np.reshape(Train_X, (Train_X.shape[0], Train_X.shape[1], 1))\n",
    "        testX = np.reshape(Test_X, (Test_X.shape[0], Test_X.shape[1], 1))\n",
    "\n",
    "\n",
    "        return trainX,trainY,testX,testY\n",
    "\n",
    "\n",
    "\n"
   ]
  },
  {
   "cell_type": "code",
   "execution_count": 26,
   "metadata": {},
   "outputs": [
    {
     "name": "stdout",
     "output_type": "stream",
     "text": [
      "[2024-02-02 11:00:57,324: INFO: common: yaml file: config\\config.yaml loaded successfully]\n",
      "[2024-02-02 11:00:57,326: INFO: common: yaml file: params.yaml loaded successfully]\n"
     ]
    }
   ],
   "source": [
    "config = DataConfigrationManager()\n",
    "P_data= config.prepare_data()\n",
    "dataset = PrepareDataset(P_data)\n",
    "Xtr,Ytr,Xte,Yte = dataset.dataset_prepration()\n"
   ]
  },
  {
   "cell_type": "code",
   "execution_count": 27,
   "metadata": {},
   "outputs": [
    {
     "data": {
      "text/plain": [
       "array([[[0.09527784],\n",
       "        [0.05477528],\n",
       "        [0.        ],\n",
       "        ...,\n",
       "        [0.65314354],\n",
       "        [0.72517726],\n",
       "        [0.87778079]],\n",
       "\n",
       "       [[0.05477528],\n",
       "        [0.        ],\n",
       "        [0.02514864],\n",
       "        ...,\n",
       "        [0.72517726],\n",
       "        [0.87778079],\n",
       "        [0.72804648]],\n",
       "\n",
       "       [[0.        ],\n",
       "        [0.02514864],\n",
       "        [0.12257942],\n",
       "        ...,\n",
       "        [0.87778079],\n",
       "        [0.72804648],\n",
       "        [0.80528276]],\n",
       "\n",
       "       ...,\n",
       "\n",
       "       [[0.37348614],\n",
       "        [0.37006923],\n",
       "        [0.44020197],\n",
       "        ...,\n",
       "        [0.62059149],\n",
       "        [0.52699402],\n",
       "        [0.5099414 ]],\n",
       "\n",
       "       [[0.37006923],\n",
       "        [0.44020197],\n",
       "        [0.34796902],\n",
       "        ...,\n",
       "        [0.52699402],\n",
       "        [0.5099414 ],\n",
       "        [0.32451021]],\n",
       "\n",
       "       [[0.44020197],\n",
       "        [0.34796902],\n",
       "        [0.33908694],\n",
       "        ...,\n",
       "        [0.5099414 ],\n",
       "        [0.32451021],\n",
       "        [0.56900778]]])"
      ]
     },
     "execution_count": 27,
     "metadata": {},
     "output_type": "execute_result"
    }
   ],
   "source": [
    "Xtr"
   ]
  },
  {
   "cell_type": "code",
   "execution_count": null,
   "metadata": {},
   "outputs": [],
   "source": []
  }
 ],
 "metadata": {
  "kernelspec": {
   "display_name": "Zee",
   "language": "python",
   "name": "python3"
  },
  "language_info": {
   "codemirror_mode": {
    "name": "ipython",
    "version": 3
   },
   "file_extension": ".py",
   "mimetype": "text/x-python",
   "name": "python",
   "nbconvert_exporter": "python",
   "pygments_lexer": "ipython3",
   "version": "3.10.12"
  }
 },
 "nbformat": 4,
 "nbformat_minor": 2
}
