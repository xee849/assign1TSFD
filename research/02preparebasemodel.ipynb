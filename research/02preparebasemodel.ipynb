{
 "cells": [
  {
   "cell_type": "code",
   "execution_count": 24,
   "metadata": {},
   "outputs": [
    {
     "data": {
      "text/plain": [
       "'C:\\\\Users\\\\zeeshan.hameed\\\\Desktop\\\\assignment1\\\\assign1TSFD'"
      ]
     },
     "execution_count": 24,
     "metadata": {},
     "output_type": "execute_result"
    }
   ],
   "source": [
    "%pwd"
   ]
  },
  {
   "cell_type": "code",
   "execution_count": 96,
   "metadata": {},
   "outputs": [],
   "source": [
    "import os\n",
    "os.chdir(r'C:\\Users\\zeeshan.hameed\\Desktop\\assignment1\\assign1TSFD')"
   ]
  },
  {
   "cell_type": "code",
   "execution_count": 97,
   "metadata": {},
   "outputs": [
    {
     "data": {
      "text/plain": [
       "'C:\\\\Users\\\\zeeshan.hameed\\\\Desktop\\\\assignment1\\\\assign1TSFD'"
      ]
     },
     "execution_count": 97,
     "metadata": {},
     "output_type": "execute_result"
    }
   ],
   "source": [
    "%pwd"
   ]
  },
  {
   "cell_type": "code",
   "execution_count": 98,
   "metadata": {},
   "outputs": [],
   "source": [
    "from dataclasses import dataclass\n",
    "from pathlib import Path\n",
    "\n",
    "@dataclass(frozen=True)\n",
    "class PrepareModel:\n",
    "    model_direct : Path\n",
    "    loss_type : str\n",
    "    Batch_size: int\n",
    "    epochs: int\n",
    "    look_back : int\n"
   ]
  },
  {
   "cell_type": "code",
   "execution_count": 99,
   "metadata": {},
   "outputs": [],
   "source": [
    "from timeseries.constants import *\n",
    "from timeseries.utils.common import read_yaml,create_directories\n",
    "\n",
    "\n",
    "class ConfigrationManager:\n",
    "    def __init__(self,config_filepath = CONFIG_FILE_PATH,params_filepath=PARAMS_FILE_PATH):\n",
    "        self.config = read_yaml(config_filepath)\n",
    "        self.params = read_yaml(params_filepath)\n",
    "        create_directories([self.config.artifacts_root])\n",
    "    def prepare_model_config(self)->PrepareModel:\n",
    "        config=self.config.prepare_model\n",
    "        create_directories([config.model_directory])\n",
    "        pre_model=PrepareModel(model_direct=Path(config.model_directory),loss_type=config.error_type,Batch_size=self.params.BATCH_SIZE,epochs=self.params.EPOCHS,\n",
    "                               look_back=self.params.LOOK_BACK)\n",
    "        return pre_model\n",
    "\n",
    "\n",
    "\n",
    "\n"
   ]
  },
  {
   "cell_type": "code",
   "execution_count": 104,
   "metadata": {},
   "outputs": [],
   "source": [
    "import tensorflow as tf\n",
    "from keras.models import Sequential\n",
    "import keras\n",
    "from keras.preprocessing.sequence import TimeseriesGenerator\n",
    "from keras.layers import Dense,Dropout\n",
    "from keras.layers import LSTM\n",
    "\n",
    "class TSmodel:\n",
    "    def __init__(self,config :PrepareModel ):\n",
    "        self.config = config\n",
    "    \n",
    "    def get_model(self):\n",
    "        look_back = self.config.look_back\n",
    "        loss_ty = self.config.loss_type\n",
    "        model = Sequential()\n",
    "        model.add(LSTM(50, activation='relu', return_sequences=True, input_shape=(look_back, 1)))\n",
    "        model.add(LSTM(50, activation='relu', return_sequences=True))\n",
    "        model.add(LSTM(50, activation='sigmoid', return_sequences=False))\n",
    "        model.add(Dense(50))\n",
    "        model.add(Dropout(0.2))\n",
    "        model.add(Dense(1))\n",
    "        model.compile(optimizer='adam', loss=loss_ty)\n",
    "        model.summary()\n",
    "        return model\n",
    "    \n",
    "    def save_mod(self,model : keras.Model):\n",
    "        os.makedirs(self.config.model_direct,exist_ok=True)\n",
    "        path=self.config.model_direct\n",
    "        model.save_weights(path/\"lstm.h5\")\n",
    "        "
   ]
  },
  {
   "cell_type": "code",
   "execution_count": 105,
   "metadata": {},
   "outputs": [
    {
     "name": "stdout",
     "output_type": "stream",
     "text": [
      "[2024-02-02 15:03:08,994: INFO: common: yaml file: config\\config.yaml loaded successfully]\n",
      "[2024-02-02 15:03:08,997: INFO: common: yaml file: params.yaml loaded successfully]\n",
      "[2024-02-02 15:03:08,999: INFO: common: created directory at: artifacts]\n",
      "[2024-02-02 15:03:09,001: INFO: common: created directory at: artifacts/prepare_model]\n",
      "Model: \"sequential_21\"\n",
      "_________________________________________________________________\n",
      " Layer (type)                Output Shape              Param #   \n",
      "=================================================================\n",
      " lstm_63 (LSTM)              (None, 30, 50)            10400     \n",
      "                                                                 \n",
      " lstm_64 (LSTM)              (None, 30, 50)            20200     \n",
      "                                                                 \n",
      " lstm_65 (LSTM)              (None, 50)                20200     \n",
      "                                                                 \n",
      " dense_42 (Dense)            (None, 50)                2550      \n",
      "                                                                 \n",
      " dropout_21 (Dropout)        (None, 50)                0         \n",
      "                                                                 \n",
      " dense_43 (Dense)            (None, 1)                 51        \n",
      "                                                                 \n",
      "=================================================================\n",
      "Total params: 53401 (208.60 KB)\n",
      "Trainable params: 53401 (208.60 KB)\n",
      "Non-trainable params: 0 (0.00 Byte)\n",
      "_________________________________________________________________\n"
     ]
    }
   ],
   "source": [
    "config=ConfigrationManager()\n",
    "prepare_model_config=config.prepare_model_config()\n",
    "tsmodel=TSmodel(config=prepare_model_config)\n",
    "modele=tsmodel.get_model()\n",
    "a=tsmodel.save_mod(modele)"
   ]
  },
  {
   "cell_type": "code",
   "execution_count": null,
   "metadata": {},
   "outputs": [],
   "source": []
  },
  {
   "cell_type": "code",
   "execution_count": null,
   "metadata": {},
   "outputs": [],
   "source": []
  },
  {
   "cell_type": "code",
   "execution_count": null,
   "metadata": {},
   "outputs": [],
   "source": []
  }
 ],
 "metadata": {
  "kernelspec": {
   "display_name": "Zee",
   "language": "python",
   "name": "python3"
  },
  "language_info": {
   "codemirror_mode": {
    "name": "ipython",
    "version": 3
   },
   "file_extension": ".py",
   "mimetype": "text/x-python",
   "name": "python",
   "nbconvert_exporter": "python",
   "pygments_lexer": "ipython3",
   "version": "3.10.12"
  }
 },
 "nbformat": 4,
 "nbformat_minor": 2
}
