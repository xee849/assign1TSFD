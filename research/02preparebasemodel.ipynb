{
 "cells": [
  {
   "cell_type": "code",
   "execution_count": 1,
   "metadata": {},
   "outputs": [
    {
     "data": {
      "text/plain": [
       "'c:\\\\Users\\\\zeeshan.hameed\\\\Desktop\\\\assignment1\\\\assign1TSFD\\\\research'"
      ]
     },
     "execution_count": 1,
     "metadata": {},
     "output_type": "execute_result"
    }
   ],
   "source": [
    "%pwd"
   ]
  },
  {
   "cell_type": "code",
   "execution_count": 4,
   "metadata": {},
   "outputs": [],
   "source": [
    "import os\n",
    "os.chdir(r'C:\\Users\\zeeshan.hameed\\Desktop\\assignment1\\assign1TSFD')"
   ]
  },
  {
   "cell_type": "code",
   "execution_count": 5,
   "metadata": {},
   "outputs": [
    {
     "data": {
      "text/plain": [
       "'C:\\\\Users\\\\zeeshan.hameed\\\\Desktop\\\\assignment1\\\\assign1TSFD'"
      ]
     },
     "execution_count": 5,
     "metadata": {},
     "output_type": "execute_result"
    }
   ],
   "source": [
    "%pwd"
   ]
  },
  {
   "cell_type": "code",
   "execution_count": 34,
   "metadata": {},
   "outputs": [],
   "source": [
    "from dataclasses import dataclass\n",
    "from pathlib import Path\n",
    "\n",
    "@dataclass(frozen=True)\n",
    "class PrepareBaseModelConfig:\n",
    "    root_dir : Path\n",
    "    update_base_model_path :Path\n",
    "    params_look_back : int\n"
   ]
  },
  {
   "cell_type": "code",
   "execution_count": 35,
   "metadata": {},
   "outputs": [],
   "source": [
    "from timeseries.constants import *\n",
    "from timeseries.utils.common import read_yaml,create_directories\n",
    "import tensorflow as tf\n",
    "from keras.models import Sequential\n",
    "from keras import models\n",
    "from keras.preprocessing.sequence import TimeseriesGenerator\n",
    "from keras.layers import Dense,Dropout\n",
    "from keras.layers import LSTM\n",
    "\n",
    "class ConfigrationManager:\n",
    "    def __init__(self,config_filepath = CONFIG_FILE_PATH,params_filepath=PARAMS_FILE_PATH):\n",
    "        self.config = read_yaml(config_filepath)\n",
    "        self.params = read_yaml(params_filepath)\n",
    "        create_directories([self.config.artifacts_root])\n",
    "    def prepare_model_config(self)->PrepareBaseModelConfig:\n",
    "        config=self.config.prepare_base_model\n",
    "        create_directories([config.root_dir])\n",
    "        prepare_base_model_config = PrepareBaseModelConfig(root_dir=Path(config.root_dir),update_base_model_path=Path(config.updated_base_model_path),\n",
    "                                                           params_look_back=self.params.LOOK_BACK)\n",
    "        return prepare_base_model_config\n",
    "\n",
    "\n",
    "\n"
   ]
  },
  {
   "cell_type": "code",
   "execution_count": 43,
   "metadata": {},
   "outputs": [],
   "source": [
    "class TSmodel:\n",
    "    def __init__(self,config :PrepareBaseModelConfig ):\n",
    "        self.config = config\n",
    "    \n",
    "    def get_model(look_back):\n",
    "        model = Sequential()\n",
    "        model.add(LSTM(50, activation='relu', return_sequences=True, input_shape=(look_back, 1)))\n",
    "        model.add(LSTM(50, activation='relu', return_sequences=True))\n",
    "        model.add(LSTM(50, activation='sigmoid', return_sequences=False))\n",
    "        model.add(Dense(50))\n",
    "        model.add(Dropout(0.2))\n",
    "        model.add(Dense(1))\n",
    "        model.compile(optimizer='adam', loss='mean_squared_error')\n",
    "        model.summary()\n",
    "        return model\n",
    "    def save_model(path : Path , model : models):\n",
    "        model.save_model(\"{path}/lstm.h5\")"
   ]
  },
  {
   "cell_type": "code",
   "execution_count": 45,
   "metadata": {},
   "outputs": [
    {
     "name": "stdout",
     "output_type": "stream",
     "text": [
      "[2024-02-01 17:50:32,693: INFO: common: yaml file: config\\config.yaml loaded successfully]\n",
      "[2024-02-01 17:50:32,699: INFO: common: yaml file: params.yaml loaded successfully]\n",
      "[2024-02-01 17:50:32,702: INFO: common: created directory at: artifacts]\n",
      "[2024-02-01 17:50:32,706: INFO: common: created directory at: artifacts/prepare_base_model]\n"
     ]
    },
    {
     "ename": "TypeError",
     "evalue": "TSmodel.get_model() takes 1 positional argument but 2 were given",
     "output_type": "error",
     "traceback": [
      "\u001b[1;31m---------------------------------------------------------------------------\u001b[0m",
      "\u001b[1;31mTypeError\u001b[0m                                 Traceback (most recent call last)",
      "Cell \u001b[1;32mIn[45], line 4\u001b[0m\n\u001b[0;32m      2\u001b[0m prepare_model_config\u001b[38;5;241m=\u001b[39mconfig\u001b[38;5;241m.\u001b[39mprepare_model_config()\n\u001b[0;32m      3\u001b[0m tsmodel\u001b[38;5;241m=\u001b[39mTSmodel(config\u001b[38;5;241m=\u001b[39mprepare_model_config)\n\u001b[1;32m----> 4\u001b[0m \u001b[43mtsmodel\u001b[49m\u001b[38;5;241;43m.\u001b[39;49m\u001b[43mget_model\u001b[49m\u001b[43m(\u001b[49m\u001b[38;5;28;43;01mNone\u001b[39;49;00m\u001b[43m)\u001b[49m\n",
      "\u001b[1;31mTypeError\u001b[0m: TSmodel.get_model() takes 1 positional argument but 2 were given"
     ]
    }
   ],
   "source": [
    "config=ConfigrationManager()\n",
    "prepare_model_config=config.prepare_model_config()\n",
    "tsmodel=TSmodel(config=prepare_model_config)\n",
    "tsmodel.get_model(None)"
   ]
  },
  {
   "cell_type": "code",
   "execution_count": null,
   "metadata": {},
   "outputs": [],
   "source": []
  }
 ],
 "metadata": {
  "kernelspec": {
   "display_name": "Zee",
   "language": "python",
   "name": "python3"
  },
  "language_info": {
   "codemirror_mode": {
    "name": "ipython",
    "version": 3
   },
   "file_extension": ".py",
   "mimetype": "text/x-python",
   "name": "python",
   "nbconvert_exporter": "python",
   "pygments_lexer": "ipython3",
   "version": "3.10.12"
  }
 },
 "nbformat": 4,
 "nbformat_minor": 2
}
