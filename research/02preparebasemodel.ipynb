{
 "cells": [
  {
   "cell_type": "code",
   "execution_count": 24,
   "metadata": {},
   "outputs": [
    {
     "data": {
      "text/plain": [
       "'C:\\\\Users\\\\zeeshan.hameed\\\\Desktop\\\\assignment1\\\\assign1TSFD'"
      ]
     },
     "execution_count": 24,
     "metadata": {},
     "output_type": "execute_result"
    }
   ],
   "source": [
    "%pwd"
   ]
  },
  {
   "cell_type": "code",
   "execution_count": 25,
   "metadata": {},
   "outputs": [],
   "source": [
    "import os\n",
    "os.chdir(r'C:\\Users\\zeeshan.hameed\\Desktop\\assignment1\\assign1TSFD')"
   ]
  },
  {
   "cell_type": "code",
   "execution_count": 26,
   "metadata": {},
   "outputs": [
    {
     "data": {
      "text/plain": [
       "'C:\\\\Users\\\\zeeshan.hameed\\\\Desktop\\\\assignment1\\\\assign1TSFD'"
      ]
     },
     "execution_count": 26,
     "metadata": {},
     "output_type": "execute_result"
    }
   ],
   "source": [
    "%pwd"
   ]
  },
  {
   "cell_type": "code",
   "execution_count": 27,
   "metadata": {},
   "outputs": [],
   "source": [
    "from dataclasses import dataclass\n",
    "from pathlib import Path\n",
    "\n",
    "@dataclass(frozen=True)\n",
    "class PrepareModelConfig:\n",
    "    root_dir : Path\n",
    "    update_base_model_path :Path\n",
    "    params_look_back : int\n"
   ]
  },
  {
   "cell_type": "code",
   "execution_count": 28,
   "metadata": {},
   "outputs": [],
   "source": [
    "from timeseries.constants import *\n",
    "from timeseries.utils.common import read_yaml,create_directories\n",
    "\n",
    "\n",
    "class ConfigrationManager:\n",
    "    def __init__(self,config_filepath = CONFIG_FILE_PATH,params_filepath=PARAMS_FILE_PATH):\n",
    "        self.config = read_yaml(config_filepath)\n",
    "        self.params = read_yaml(params_filepath)\n",
    "        create_directories([self.config.artifacts_root])\n",
    "    def prepare_model_config(self)->PrepareModelConfig:\n",
    "        config=self.config.prepare_base_model\n",
    "        create_directories([config.root_dir])\n",
    "        prepare_base_model_config = PrepareModelConfig(root_dir=Path(config.root_dir),update_base_model_path=Path(config.updated_base_model_path),\n",
    "                                                           params_look_back=self.params.LOOK_BACK)\n",
    "        return prepare_base_model_config\n",
    "\n",
    "\n",
    "\n"
   ]
  },
  {
   "cell_type": "code",
   "execution_count": 29,
   "metadata": {},
   "outputs": [],
   "source": [
    "import tensorflow as tf\n",
    "from keras.models import Sequential\n",
    "import keras\n",
    "from keras.preprocessing.sequence import TimeseriesGenerator\n",
    "from keras.layers import Dense,Dropout\n",
    "from keras.layers import LSTM\n",
    "\n",
    "\n",
    "\n",
    "class TSmodel:\n",
    "    def __init__(self,config :PrepareModelConfig ):\n",
    "        self.config = config\n",
    "    \n",
    "    def get_model(self):\n",
    "        look_back = self.config.params_look_back\n",
    "        model = Sequential()\n",
    "        model.add(LSTM(50, activation='relu', return_sequences=True, input_shape=(look_back, 1)))\n",
    "        model.add(LSTM(50, activation='relu', return_sequences=True))\n",
    "        model.add(LSTM(50, activation='sigmoid', return_sequences=False))\n",
    "        model.add(Dense(50))\n",
    "        model.add(Dropout(0.2))\n",
    "        model.add(Dense(1))\n",
    "        model.compile(optimizer='adam', loss='mean_squared_error')\n",
    "        model.summary()\n",
    "        return model\n",
    "    def save(self,model : keras.Model):\n",
    "        path = self.config.update_base_model_path\n",
    "        model.save_weights(path)\n"
   ]
  },
  {
   "cell_type": "code",
   "execution_count": 30,
   "metadata": {},
   "outputs": [
    {
     "name": "stdout",
     "output_type": "stream",
     "text": [
      "[2024-02-02 09:07:56,870: INFO: common: yaml file: config\\config.yaml loaded successfully]\n",
      "[2024-02-02 09:07:56,873: INFO: common: yaml file: params.yaml loaded successfully]\n",
      "[2024-02-02 09:07:56,875: INFO: common: created directory at: artifacts]\n",
      "[2024-02-02 09:07:56,876: INFO: common: created directory at: artifacts/prepare_base_model]\n",
      "Model: \"sequential_2\"\n",
      "_________________________________________________________________\n",
      " Layer (type)                Output Shape              Param #   \n",
      "=================================================================\n",
      " lstm_6 (LSTM)               (None, 30, 50)            10400     \n",
      "                                                                 \n",
      " lstm_7 (LSTM)               (None, 30, 50)            20200     \n",
      "                                                                 \n",
      " lstm_8 (LSTM)               (None, 50)                20200     \n",
      "                                                                 \n",
      " dense_4 (Dense)             (None, 50)                2550      \n",
      "                                                                 \n",
      " dropout_2 (Dropout)         (None, 50)                0         \n",
      "                                                                 \n",
      " dense_5 (Dense)             (None, 1)                 51        \n",
      "                                                                 \n",
      "=================================================================\n",
      "Total params: 53401 (208.60 KB)\n",
      "Trainable params: 53401 (208.60 KB)\n",
      "Non-trainable params: 0 (0.00 Byte)\n",
      "_________________________________________________________________\n"
     ]
    },
    {
     "data": {
      "text/plain": [
       "<keras.src.engine.sequential.Sequential at 0x22b9ca83eb0>"
      ]
     },
     "execution_count": 30,
     "metadata": {},
     "output_type": "execute_result"
    }
   ],
   "source": [
    "config=ConfigrationManager()\n",
    "prepare_model_config=config.prepare_model_config()\n",
    "tsmodel=TSmodel(config=prepare_model_config)\n",
    "tsmodel.get_model()"
   ]
  },
  {
   "cell_type": "code",
   "execution_count": null,
   "metadata": {},
   "outputs": [],
   "source": []
  }
 ],
 "metadata": {
  "kernelspec": {
   "display_name": "Zee",
   "language": "python",
   "name": "python3"
  },
  "language_info": {
   "codemirror_mode": {
    "name": "ipython",
    "version": 3
   },
   "file_extension": ".py",
   "mimetype": "text/x-python",
   "name": "python",
   "nbconvert_exporter": "python",
   "pygments_lexer": "ipython3",
   "version": "3.10.12"
  }
 },
 "nbformat": 4,
 "nbformat_minor": 2
}
